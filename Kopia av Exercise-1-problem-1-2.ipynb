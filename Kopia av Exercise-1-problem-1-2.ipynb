{
  "cells": [
    {
      "cell_type": "markdown",
      "metadata": {
        "tags": [],
        "deletable": false,
        "editable": false,
        "id": "oeXrNCfTidfw"
      },
      "source": [
        "## Problem 1: Creating basic geometries (*5 points*)\n",
        "\n",
        "In this problem, you will create custom functions that create geometry objects.\n",
        "We start with a very simple function, and proceed to creating functions that can handle invalid input values."
      ]
    },
    {
      "cell_type": "markdown",
      "metadata": {
        "jp-MarkdownHeadingCollapsed": true,
        "tags": [],
        "deletable": false,
        "editable": false,
        "id": "_TsZq2Vnidfz"
      },
      "source": [
        "\n",
        "----\n",
        "\n",
        "#### (1a)\n",
        "\n",
        "Create a function called **`create_point_geometry()`** that accepts two parameters, `x_coord` and `y_coord`.\n",
        "The function should return a `shapely.geometry.Point` geometry object."
      ]
    },
    {
      "cell_type": "code",
      "execution_count": 30,
      "metadata": {
        "tags": [],
        "id": "RgGq1rB6idfz"
      },
      "outputs": [],
      "source": [
        "# ADD YOUR OWN CODE HERE\n",
        "\n",
        "from shapely import Point, LineString, Polygon\n",
        "\n",
        "def create_point_geometry(x_coord, y_coord):\n",
        "    '''Returns a Point from two given paramenters'''\n",
        "    return Point(x_coord, y_coord)\n",
        "\n",
        "\n"
      ]
    },
    {
      "cell_type": "markdown",
      "metadata": {
        "deletable": false,
        "editable": false,
        "id": "5BwqPHg_idf0"
      },
      "source": [
        "Test your function by running the following code cell:"
      ]
    },
    {
      "cell_type": "code",
      "source": [],
      "metadata": {
        "id": "BEDPS4-Wqxo_"
      },
      "execution_count": 3,
      "outputs": []
    },
    {
      "cell_type": "code",
      "execution_count": 4,
      "metadata": {
        "deletable": false,
        "editable": false,
        "id": "u300rOuMidf0",
        "colab": {
          "base_uri": "https://localhost:8080/"
        },
        "outputId": "601fce7f-f857-489d-c0f7-d257d2ea908c"
      },
      "outputs": [
        {
          "output_type": "stream",
          "name": "stdout",
          "text": [
            "POINT (0 1.1)\n",
            "Point\n"
          ]
        }
      ],
      "source": [
        "# NON-EDITABLE CODE CELL FOR TESTING YOUR SOLUTION\n",
        "point1 = create_point_geometry(0.0, 1.1)\n",
        "print(point1)\n",
        "print(point1.geom_type)"
      ]
    },
    {
      "cell_type": "markdown",
      "metadata": {
        "jp-MarkdownHeadingCollapsed": true,
        "tags": [],
        "deletable": false,
        "editable": false,
        "id": "qMDdBZFaidf0"
      },
      "source": [
        "\n",
        "----\n",
        "\n",
        "#### (1b)\n",
        "\n",
        "Create a function called **`create_line_geometry()`** that takes a list of `shapely.geometry.Point`s as\n",
        "an argument, and returns a `shapely.geometry.LineString` object of those input points.\n",
        "\n",
        "In addition, you should validate the function input using `assert` statements (see\n",
        "[lesson 6 of the Geo-Python course](https://geo-python-site.readthedocs.io/en/latest/notebooks/L6/gcp-5-assertions.html)\n",
        "and the [hints for this exercise](https://autogis-site.readthedocs.io/en/latest/lessons/L1/exercise-1.html#hints)):\n",
        "\n",
        "  - Inside the function, first check that the input is a **list**. If something else than a list is\n",
        "    passed, raise the following error: \"Input should be a list\".\n",
        "  - Use `assert` to check that the input list contains **at least** two values. Otherwise, raise the error: \"At\n",
        "    minimum two points are required for a LineString\"\n",
        "  - *(optional)* Use `assert` to check that all values in the input list are `shapely.geometry.Point`s.\n",
        "    Otherwise, raise the error: \"All list values must be of type shapely.geometry.Point\"\n"
      ]
    },
    {
      "cell_type": "code",
      "execution_count": 32,
      "metadata": {
        "tags": [],
        "id": "qAPwOtJNidf0"
      },
      "outputs": [],
      "source": [
        "# ADD YOUR OWN CODE HERE\n",
        "def create_line_geometry(S):\n",
        "    '''Uses a list of at least points and returns a Linestring'''\n",
        "    assert type(S) == list, \"Input should be a list\"\n",
        "    assert len(S) >= 2, \"At minimum two point are required for a LineString\"\n",
        "    lineString = LineString(S)\n",
        "    return lineString\n",
        "\n"
      ]
    },
    {
      "cell_type": "markdown",
      "metadata": {
        "deletable": false,
        "editable": false,
        "id": "9QLQmNSaidf1"
      },
      "source": [
        "Demonstrate how to use your function:\n",
        "Create a line object with two points, `Point(45.2, 22.34)` and `Point(100.22, -3.20)`, and store the result in a variable called `line1`."
      ]
    },
    {
      "cell_type": "code",
      "execution_count": 33,
      "metadata": {
        "id": "oS55uKXLidf1"
      },
      "outputs": [],
      "source": [
        "# ADD YOUR OWN CODE HERE\n",
        "point1 = Point(45.2, 22.34)\n",
        "point2 = Point(100.22, -3.20)\n",
        "line_list = [point1, point2]\n",
        "line1 = create_line_geometry(line_list)\n"
      ]
    },
    {
      "cell_type": "markdown",
      "metadata": {
        "deletable": false,
        "editable": false,
        "id": "uWavaAtDidf1"
      },
      "source": [
        "Run this code cell to check your solution:"
      ]
    },
    {
      "cell_type": "code",
      "execution_count": 34,
      "metadata": {
        "deletable": false,
        "editable": false,
        "id": "NDVdRNFzidf1",
        "colab": {
          "base_uri": "https://localhost:8080/"
        },
        "outputId": "a58a362b-3f9b-4e86-e77f-82ea01828241"
      },
      "outputs": [
        {
          "output_type": "stream",
          "name": "stdout",
          "text": [
            "LINESTRING (45.2 22.34, 100.22 -3.2)\n",
            "LineString\n"
          ]
        }
      ],
      "source": [
        "# NON-EDITABLE CODE CELL FOR TESTING YOUR SOLUTION\n",
        "print(line1)\n",
        "print(line1.geom_type)"
      ]
    },
    {
      "cell_type": "markdown",
      "metadata": {
        "deletable": false,
        "editable": false,
        "id": "-NgOLLaWidf1"
      },
      "source": [
        "Check if your function checks the input correctly by running this code cell:"
      ]
    },
    {
      "cell_type": "code",
      "execution_count": 35,
      "metadata": {
        "deletable": false,
        "editable": false,
        "id": "uTv5eJqmidf1",
        "colab": {
          "base_uri": "https://localhost:8080/"
        },
        "outputId": "01a89354-e5b7-4f5f-f541-c666886644f6"
      },
      "outputs": [
        {
          "output_type": "stream",
          "name": "stdout",
          "text": [
            "The function (correctly) detected an error. The error message was ‘Input should be a list’\n"
          ]
        }
      ],
      "source": [
        "# NON-EDITABLE CODE CELL FOR TESTING YOUR SOLUTION\n",
        "try:\n",
        "    # Pass something else than a list\n",
        "    create_line_geometry(\"Give me a line!\")\n",
        "except AssertionError as exception:\n",
        "    print(f\"The function (correctly) detected an error. The error message was ‘{exception.args[0]}’\")\n",
        "except Exception as exception:\n",
        "    raise exception"
      ]
    },
    {
      "cell_type": "markdown",
      "metadata": {
        "jp-MarkdownHeadingCollapsed": true,
        "tags": [],
        "deletable": false,
        "editable": false,
        "id": "3EEWsx7eidf2"
      },
      "source": [
        "\n",
        "----\n",
        "\n",
        "#### (1c)\n",
        "\n",
        "Create a function **`create_polygon_geometry()`** that accepts one parameter `coordinates`. `coordinates` should be *a list of\n",
        "coordinate tuples*. The function should create and return a `shapely.geometry.Polygon` object based on these coordinates.\n",
        "\n",
        "Again, use `assert` statements to ensure the input arguments are valid:\n",
        "\n",
        "  - first check that the input is a **list**. If something else than a list is\n",
        "    passed, raise the following error: \"Input should be a list\".\n",
        "  - Check that the input list contains **at least three values**. Otherwise, raise the error: \"At\n",
        "    minimum three points are required for a polygon\"\n",
        "  - Check that all values in the input list are tuples of two values.\n",
        "    Otherwise, raise the error: \"All list values must be coordinate tuples\"\n",
        "  - *(optional)* check that all tuples’ values are instances of either `int` or `float`.\n",
        "\n",
        "*(Optional)* Write the function in a way that also allows the input to be a list of `shapely.geometry.Point`s.\n",
        "If `coords` contains `shapely.geometry.Point` objects, return a polygon based on these points.\n",
        "If the input is neither a list of tuples, nor a list of Points, raise an appropriate error message.\n"
      ]
    },
    {
      "cell_type": "code",
      "execution_count": 36,
      "metadata": {
        "id": "D8uWtYypidf2"
      },
      "outputs": [],
      "source": [
        "from numpy import equal\n",
        "# ADD YOUR OWN CODE HERE\n",
        "def create_polygon_geometry(coordinates):\n",
        "    '''Returns a Polygon from a list of at least three points'''\n",
        "    assert type(coordinates) == list, \"Input should be a list\"\n",
        "    assert len(coordinates) >= 3, \"At minimum three point are required for a polygon\"\n",
        "\n",
        "\n",
        "    return Polygon(coordinates)\n"
      ]
    },
    {
      "cell_type": "markdown",
      "metadata": {
        "deletable": false,
        "editable": false,
        "id": "-xEwRHVEidf2"
      },
      "source": [
        "Demonstrate how to use the function.\n",
        "For example, create a Polygon `polygon1` with three points: `(45.2, 22.34)`, `(100.22, -3.20)`, `(70.0, 10.20)`."
      ]
    },
    {
      "cell_type": "code",
      "execution_count": 37,
      "metadata": {
        "id": "3mgZ9SMJidf2"
      },
      "outputs": [],
      "source": [
        "# ADD YOUR OWN CODE HERE\n",
        "point1 = Point(45.2, 22.34)\n",
        "point2 = Point(100.22, -3.20)\n",
        "point3 = Point((70.0, 10.20))\n",
        "list_of_point = [point1, point2, point3]\n",
        "polygon1 = create_polygon_geometry(list_of_point)"
      ]
    },
    {
      "cell_type": "markdown",
      "metadata": {
        "deletable": false,
        "editable": false,
        "id": "tbnc7vEYidf2"
      },
      "source": [
        "Use the following code cell to test your solution:"
      ]
    },
    {
      "cell_type": "code",
      "execution_count": 38,
      "metadata": {
        "deletable": false,
        "editable": false,
        "id": "rP51v0--idf2",
        "colab": {
          "base_uri": "https://localhost:8080/"
        },
        "outputId": "84970844-4852-4c6b-aac9-3c70c16dcf14"
      },
      "outputs": [
        {
          "output_type": "stream",
          "name": "stdout",
          "text": [
            "POLYGON ((45.2 22.34, 100.22 -3.2, 70 10.2, 45.2 22.34))\n",
            "Polygon\n"
          ]
        }
      ],
      "source": [
        "# NON-EDITABLE CODE CELL FOR TESTING YOUR SOLUTION\n",
        "print(polygon1)\n",
        "print(polygon1.geom_type)"
      ]
    },
    {
      "cell_type": "markdown",
      "metadata": {
        "deletable": false,
        "editable": false,
        "id": "c-Lv0Ky4idf2"
      },
      "source": [
        "Check if your function checks the length of the input correctly by running this code cell:"
      ]
    },
    {
      "cell_type": "code",
      "execution_count": 39,
      "metadata": {
        "deletable": false,
        "editable": false,
        "id": "wZko3sxwidf3",
        "colab": {
          "base_uri": "https://localhost:8080/"
        },
        "outputId": "eece6c8f-fc4f-4c00-bbdc-8d930485fdbe"
      },
      "outputs": [
        {
          "output_type": "stream",
          "name": "stdout",
          "text": [
            "The function (correctly) detected an error. The error message was ‘Input should be a list’\n"
          ]
        }
      ],
      "source": [
        "# NON-EDITABLE CODE CELL FOR TESTING YOUR SOLUTION\n",
        "try:\n",
        "    # Pass something else than a list\n",
        "    create_polygon_geometry(\"Give me a polygon\")\n",
        "except AssertionError as exception:\n",
        "    print(f\"The function (correctly) detected an error. The error message was ‘{exception.args[0]}’\")\n",
        "except Exception as exception:\n",
        "    raise exception"
      ]
    },
    {
      "cell_type": "markdown",
      "metadata": {
        "deletable": false,
        "editable": false,
        "id": "a8ZL_bW7idf3"
      },
      "source": [
        "\n",
        "----\n",
        "\n",
        "#### Done!\n",
        "\n",
        "That’s it. Now you are ready to continue with Problem 2.\n",
        "\n",
        "Remember to commit your code using `git` after each major code change (for example, after solving each problem). Remember also to upload (push) your files to your **own** personal GitHub repository for Exercise-1.\n"
      ]
    },
    {
      "cell_type": "markdown",
      "metadata": {
        "deletable": false,
        "editable": false,
        "id": "5VPB73caidf3"
      },
      "source": [
        "## Problem 2: Attributes of geometries (*5 points*)\n",
        "\n",
        "In this problem, we look at the geometric properties of geometries, and how to access them."
      ]
    },
    {
      "cell_type": "markdown",
      "metadata": {
        "jp-MarkdownHeadingCollapsed": true,
        "tags": [],
        "deletable": false,
        "editable": false,
        "id": "3Mzv_HJ1idf3"
      },
      "source": [
        "\n",
        "----\n",
        "\n",
        "#### (2a)\n",
        "\n",
        "Create a function called **`get_centroid()`** that accepts one parameter, `geom`.\n",
        "The function should take any kind of Shapely’s geometry objects (any instance of `shapely.geometry.base.BaseGeometry`)\n",
        "as an input, and return the centroid of that geometry.\n",
        "\n",
        "Make sure to validate the function’s input arguments using `assert` statements:\n",
        "\n",
        "  - check that the input is a `shapely.geometry.base.BaseGeometry` or one of its child classes.\n",
        "    Otherwise, raise the error \"Input must be a `shapely` geometry\".\n"
      ]
    },
    {
      "cell_type": "code",
      "execution_count": 40,
      "metadata": {
        "id": "4dqfACtYidf3"
      },
      "outputs": [],
      "source": [
        "import shapely\n",
        "# ADD YOUR OWN CODE HERE\n",
        "def get_centroid(geom):\n",
        "    '''Returns the centroid of a geometry object'''\n",
        "    assert type(geom) == shapely.geometry.polygon.Polygon, \"Input must be a shapely geometry\"\n",
        "\n",
        "    return geom.centroid\n",
        "\n"
      ]
    },
    {
      "cell_type": "markdown",
      "metadata": {
        "deletable": false,
        "editable": false,
        "id": "eG4yuhoUidf3"
      },
      "source": [
        "Test and demonstrate the usage of the function. You can, for example, create shapely objects using the functions you created in problem 1 and print out information about their centroids:\n"
      ]
    },
    {
      "cell_type": "code",
      "execution_count": 41,
      "metadata": {
        "id": "_lpPwxHvidf3",
        "outputId": "17732988-b516-4574-9b0f-27098c86d66a",
        "colab": {
          "base_uri": "https://localhost:8080/"
        }
      },
      "outputs": [
        {
          "output_type": "execute_result",
          "data": {
            "text/plain": [
              "shapely.geometry.polygon.Polygon"
            ]
          },
          "metadata": {},
          "execution_count": 41
        }
      ],
      "source": [
        "# ADD YOUR OWN CODE HERE\n",
        "line = create_polygon_geometry(list_of_point)\n",
        "\n",
        "type(polygon1)"
      ]
    },
    {
      "cell_type": "code",
      "execution_count": 42,
      "metadata": {
        "deletable": false,
        "editable": false,
        "id": "28YrJ2pCidf3",
        "colab": {
          "base_uri": "https://localhost:8080/"
        },
        "outputId": "bdd77563-0454-4f0d-920b-7c4900125440"
      },
      "outputs": [
        {
          "output_type": "stream",
          "name": "stdout",
          "text": [
            "POINT (71.80666666666667 9.780000000000001)\n"
          ]
        }
      ],
      "source": [
        "# NON-EDITABLE CODE CELL FOR TESTING YOUR SOLUTION\n",
        "centroid = get_centroid(polygon1)\n",
        "print(centroid)"
      ]
    },
    {
      "cell_type": "markdown",
      "metadata": {
        "deletable": false,
        "editable": false,
        "id": "70PpoPGBidf3"
      },
      "source": [
        "Check that the assertion error works correctly:"
      ]
    },
    {
      "cell_type": "code",
      "execution_count": 43,
      "metadata": {
        "deletable": false,
        "editable": false,
        "id": "vwbNCoNRidf4",
        "outputId": "c113d4a8-30ae-4eeb-9ea7-45d5c141d9d5",
        "colab": {
          "base_uri": "https://localhost:8080/"
        }
      },
      "outputs": [
        {
          "output_type": "stream",
          "name": "stdout",
          "text": [
            "The function (correctly) detected an error. The error message was ‘Input must be a shapely geometry’\n"
          ]
        }
      ],
      "source": [
        "# NON-EDITABLE CODE CELL FOR TESTING YOUR SOLUTION\n",
        "try:\n",
        "    # Pass something else than a Shapely geometry\n",
        "    get_centroid(\"Give me a centroid!\")\n",
        "except AssertionError as exception:\n",
        "    print(f\"The function (correctly) detected an error. The error message was ‘{exception.args[0]}’\")\n",
        "except Exception as exception:\n",
        "    raise exception"
      ]
    },
    {
      "cell_type": "markdown",
      "metadata": {
        "jp-MarkdownHeadingCollapsed": true,
        "tags": [],
        "deletable": false,
        "editable": false,
        "id": "3UbU5jD6idf4"
      },
      "source": [
        "\n",
        "----\n",
        "\n",
        "#### (2b)\n",
        "\n",
        "Create a function **`get_area()`** accepting one parameter `polygon`.\n",
        "\n",
        "The function should accept a `shapely.geometry.Polygon` and return its area.\n",
        "Again, use `assert` to make sure the input values are valid, in particular, check that:\n",
        "- the input is a `shapely.geometry.Polygon`. If the argument is anything else,\n",
        "  raise an error: \"Input should be a `shapely.geometry.Polygon`\"."
      ]
    },
    {
      "cell_type": "code",
      "execution_count": 44,
      "metadata": {
        "id": "9dr59-kdidf4"
      },
      "outputs": [],
      "source": [
        "# ADD YOUR OWN CODE HERE\n",
        "\n",
        "def get_area(polygon):\n",
        "    '''Returns the are of a Polygon'''\n",
        "    assert type(polygon) == shapely.geometry.Polygon, \"Input should be a shapely.geometry.Polygon\"\n",
        "    return polygon.area\n",
        "\n"
      ]
    },
    {
      "cell_type": "markdown",
      "metadata": {
        "deletable": false,
        "editable": false,
        "id": "LVQSGUo4idf4"
      },
      "source": [
        "Test and demonstrate how to use the function:"
      ]
    },
    {
      "cell_type": "code",
      "execution_count": 45,
      "metadata": {
        "id": "nBNDwK5pidf4"
      },
      "outputs": [],
      "source": [
        "# ADD YOUR OWN CODE HERE\n",
        "\n",
        "area = get_area(polygon1)\n"
      ]
    },
    {
      "cell_type": "code",
      "execution_count": 46,
      "metadata": {
        "deletable": false,
        "editable": false,
        "id": "VZ32MLH-idf4",
        "outputId": "b968b3cb-b1cd-4c24-e5c1-d587c28a7f3f",
        "colab": {
          "base_uri": "https://localhost:8080/"
        }
      },
      "outputs": [
        {
          "output_type": "stream",
          "name": "stdout",
          "text": [
            "17.28\n"
          ]
        }
      ],
      "source": [
        "# NON-EDITABLE CODE CELL FOR TESTING YOUR SOLUTION\n",
        "area = get_area(polygon1)\n",
        "print(round(area, 2))"
      ]
    },
    {
      "cell_type": "markdown",
      "metadata": {
        "deletable": false,
        "editable": false,
        "id": "l93MKgCnidf4"
      },
      "source": [
        "Check that the assertion works:"
      ]
    },
    {
      "cell_type": "code",
      "execution_count": 47,
      "metadata": {
        "deletable": false,
        "editable": false,
        "id": "LE_VLD55idf4",
        "outputId": "9fc994b0-6bb6-4508-b0ba-98cb9e2f845f",
        "colab": {
          "base_uri": "https://localhost:8080/"
        }
      },
      "outputs": [
        {
          "output_type": "stream",
          "name": "stdout",
          "text": [
            "The function (correctly) detected an error. The error message was ‘Input should be a shapely.geometry.Polygon’\n"
          ]
        }
      ],
      "source": [
        "# NON-EDITABLE CODE CELL FOR TESTING YOUR SOLUTION\n",
        "try:\n",
        "    # Pass something else than a Shapely geometry\n",
        "    get_area(\"Give me an area!\")\n",
        "except AssertionError as exception:\n",
        "    print(f\"The function (correctly) detected an error. The error message was ‘{exception.args[0]}’\")\n",
        "except Exception as exception:\n",
        "    raise exception"
      ]
    },
    {
      "cell_type": "markdown",
      "metadata": {
        "jp-MarkdownHeadingCollapsed": true,
        "tags": [],
        "deletable": false,
        "editable": false,
        "id": "GGlEyTpdidf4"
      },
      "source": [
        "\n",
        "\n",
        "----\n",
        "\n",
        "#### (2c)\n",
        "\n",
        "Create a function **`get_length()`** accepting one parameter, `geometry`.\n",
        "\n",
        "The function should accept either a `shapely.geometry.LineString` or a `shapely.geometry.Polygon` as input.\n",
        "Check the type of the input and return the length of the line if input is a LineString and length of the\n",
        "exterior ring if the input is a Polygon.\n",
        "\n",
        "If something else is passed to the function, raise an error \"‘geometry’ should be either a LineString or a Polygon\". Use `assert` or (advanced, optional) [raise a `ValueError` exception](https://docs.python.org/3/tutorial/errors.html#handling-exceptions).\n"
      ]
    },
    {
      "cell_type": "code",
      "execution_count": 50,
      "metadata": {
        "id": "exSKkiLKidf4"
      },
      "outputs": [],
      "source": [
        "# ADD YOUR OWN CODE HERE\n",
        "def get_length(geometry):\n",
        "    '''Returns the length of a geometry object'''\n",
        "    assert type(geometry) == shapely.geometry.LineString or type(geometry) == shapely.geometry.Polygon, \"‘geometry’ should be either a LineString or a Polygon\"\n",
        "    return geometry.length\n"
      ]
    },
    {
      "cell_type": "markdown",
      "metadata": {
        "deletable": false,
        "editable": false,
        "id": "naSSjhZiidgD"
      },
      "source": [
        "Test and demonstrate the usage of the function:"
      ]
    },
    {
      "cell_type": "code",
      "execution_count": 51,
      "metadata": {
        "id": "gxXd42SnidgD",
        "outputId": "a63808cd-a6b0-4b65-c8aa-30eda5a43908",
        "colab": {
          "base_uri": "https://localhost:8080/"
        }
      },
      "outputs": [
        {
          "output_type": "stream",
          "name": "stdout",
          "text": [
            "121.32841570092893\n"
          ]
        }
      ],
      "source": [
        "# ADD YOUR OWN CODE HERE\n",
        "length = get_length(polygon1)\n",
        "print(length)\n"
      ]
    },
    {
      "cell_type": "code",
      "execution_count": 52,
      "metadata": {
        "deletable": false,
        "editable": false,
        "id": "8os3tJ9WidgD",
        "outputId": "99a6702f-3cd8-4d2f-9cfb-2222c266cc76",
        "colab": {
          "base_uri": "https://localhost:8080/"
        }
      },
      "outputs": [
        {
          "output_type": "stream",
          "name": "stdout",
          "text": [
            "Line length: 60.66\n",
            "Polygon exterior length: 121.33\n",
            "The function (correctly) detected an error. The error message was ‘‘geometry’ should be either a LineString or a Polygon’\n"
          ]
        }
      ],
      "source": [
        "# NON-EDITABLE CODE CELL FOR TESTING YOUR SOLUTION\n",
        "line_length = get_length(line1)\n",
        "print(\"Line length:\", round(line_length,2))\n",
        "\n",
        "poly_exterior_length = get_length(polygon1)\n",
        "print(\"Polygon exterior length:\", round(poly_exterior_length,2))\n",
        "\n",
        "try:\n",
        "    # Pass something else than a Shapely LineString or Polygon\n",
        "    get_length(Point(1,2))\n",
        "except (AssertionError, ValueError) as exception:\n",
        "    print(f\"The function (correctly) detected an error. The error message was ‘{exception.args[0]}’\")\n",
        "except Exception as exception:\n",
        "    raise exception"
      ]
    },
    {
      "cell_type": "markdown",
      "metadata": {
        "jp-MarkdownHeadingCollapsed": true,
        "tags": [],
        "deletable": false,
        "editable": false,
        "id": "ln-XuQFZidgD"
      },
      "source": [
        "\n",
        "----\n",
        "\n",
        "## Docstrings\n",
        "\n",
        "Did you add a docstring to all the functions you defined? If not, add them now :) A short one-line docstring is enough in this exercise."
      ]
    },
    {
      "cell_type": "markdown",
      "metadata": {
        "deletable": false,
        "editable": false,
        "id": "HwN6hrzNidgD"
      },
      "source": [
        "You can run the code cell below to check all the docstrings:"
      ]
    },
    {
      "cell_type": "code",
      "execution_count": 53,
      "metadata": {
        "deletable": false,
        "editable": false,
        "id": "gjXPSZ6fidgD",
        "outputId": "d31b96f8-30b9-4c2c-d2ea-52d4b9de9eb9",
        "colab": {
          "base_uri": "https://localhost:8080/"
        }
      },
      "outputs": [
        {
          "output_type": "stream",
          "name": "stdout",
          "text": [
            "My functions:\n",
            "\n",
            "- create_point_geometry: Returns a Point from two given paramenters\n",
            "- create_line_geometry: Uses a list of at least points and returns a Linestring\n",
            "- create_polygon_geometry: Returns a Polygon from a list of at least three points\n",
            "- get_centroid: Returns the centroid of a geometry object\n",
            "- get_area: Returns the are of a Polygon\n",
            "- get_length: Returns the length of a geometry object\n"
          ]
        }
      ],
      "source": [
        "# NON-EDITABLE CODE CELL FOR TESTING YOUR SOLUTION\n",
        "\n",
        "# List all functions we created\n",
        "functions = [\n",
        "    create_point_geometry,\n",
        "    create_line_geometry,\n",
        "    create_polygon_geometry,\n",
        "    get_centroid,\n",
        "    get_area,\n",
        "    get_length\n",
        "]\n",
        "\n",
        "print(\"My functions:\\n\")\n",
        "\n",
        "for function in functions:\n",
        "    # print function name and docstring:\n",
        "    print(\"-\", function.__name__ +\":\", function.__doc__)"
      ]
    },
    {
      "cell_type": "markdown",
      "metadata": {
        "deletable": false,
        "editable": false,
        "id": "-9DPCn2AidgE"
      },
      "source": [
        "\n",
        "----\n",
        "\n",
        "Don’t forget to upload your code and edits to your **own** personal GitHub repository for Exercise-1.\n",
        "\n",
        "#### Done!\n",
        "\n",
        "That's it. Now you are ready to continue with Problem 3."
      ]
    },
    {
      "cell_type": "code",
      "source": [],
      "metadata": {
        "id": "9UsyWxLULJu4"
      },
      "execution_count": null,
      "outputs": []
    }
  ],
  "metadata": {
    "kernelspec": {
      "display_name": "Python 3 (ipykernel)",
      "language": "python",
      "name": "python3"
    },
    "language_info": {
      "codemirror_mode": {
        "name": "ipython",
        "version": 3
      },
      "file_extension": ".py",
      "mimetype": "text/x-python",
      "name": "python",
      "nbconvert_exporter": "python",
      "pygments_lexer": "ipython3",
      "version": "3.10.8"
    },
    "colab": {
      "provenance": []
    }
  },
  "nbformat": 4,
  "nbformat_minor": 0
}