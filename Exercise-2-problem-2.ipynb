{
  "cells": [
    {
      "cell_type": "markdown",
      "metadata": {
        "deletable": false,
        "editable": false,
        "tags": [],
        "id": "g2J_uVGTKvhR"
      },
      "source": [
        "## Problem 2: Points to map (7 points)\n",
        "\n",
        "In this task, we continue to learn how to create geometries from latitude and longitude coordinates.\n",
        "\n",
        "**Our aim is to plot a map of points, based on a set of longitude and latitude coordinates that are stored in a csv file.**\n",
        "\n",
        "The input data is stored in the CSV spreadsheet `some_posts.csv` in the directory `data`. The coordinates stored there are in WGS84 format (decimal degrees, EPSG:4326), and the first few rows of data look like this:\n",
        "\n",
        "```\n",
        "lat,lon,timestamp,userid\n",
        "-24.980792492,31.484633302,2015-07-07 03:02,66487960\n",
        "-25.499224667,31.508905612,2015-07-07 03:18,65281761\n",
        "-24.342578456,30.930866066,2015-03-07 03:38,90916112\n",
        "-24.85461393,31.519718439,2015-10-07 05:04,37959089\n",
        "```\n",
        "\n",
        "The data has 81379 rows and consists of locations and times of de-identified social media posts inside Kruger national park in South Africa:\n",
        "\n",
        "| Column | Description |\n",
        "|--------|-------------|\n",
        "| lat | y-coordinate of the post |\n",
        "| lon | x-coordinate of the post |\n",
        "| timestamp | Time when the post was uploaded |\n",
        "| userid | unique id for each user|\n",
        "\n",
        "*Note: Although the data is based on real social media data, the userids and timestamps have been randomized making it impossible to link the data to the original posts.*"
      ]
    },
    {
      "cell_type": "markdown",
      "metadata": {
        "deletable": false,
        "editable": false,
        "tags": [],
        "id": "O1P41kB3KvhT"
      },
      "source": [
        "### a) Read the CSV file\n",
        "\n",
        "- Read the data from `some_posts.csv` into a Pandas dataframe called `data`"
      ]
    },
    {
      "cell_type": "code",
      "execution_count": 3,
      "metadata": {
        "jupyter": {
          "outputs_hidden": false
        },
        "id": "tE0Aw_6iKvhT"
      },
      "outputs": [],
      "source": [
        "# ADD YOUR OWN CODE HERE\n",
        "import pandas as pd\n",
        "\n",
        "data = pd.read_csv(\"https://raw.githubusercontent.com/Automating-GIS-processes-2022/Exercise-2/main/data/some_posts.csv\")\n",
        "\n",
        "\n"
      ]
    },
    {
      "cell_type": "code",
      "execution_count": 4,
      "metadata": {
        "deletable": false,
        "editable": false,
        "jupyter": {
          "outputs_hidden": false
        },
        "colab": {
          "base_uri": "https://localhost:8080/"
        },
        "id": "v5thfEKpKvhU",
        "outputId": "98c8f6fb-36c8-4895-abfb-776f393607bb"
      },
      "outputs": [
        {
          "output_type": "stream",
          "name": "stdout",
          "text": [
            "Number of rows: 81379\n"
          ]
        }
      ],
      "source": [
        "# NON-EDITABLE CODE CELL FOR TESTING YOUR SOLUTION\n",
        "\n",
        "# Check the result\n",
        "print(f\"Number of rows: {len(data)}\")"
      ]
    },
    {
      "cell_type": "markdown",
      "metadata": {
        "deletable": false,
        "editable": false,
        "jp-MarkdownHeadingCollapsed": true,
        "tags": [],
        "id": "Jrv0ZPLMKvhV"
      },
      "source": [
        "### b) Add a geometry column and fill it with geometries\n",
        "\n",
        "- Create an empty column called `geometry` where you will store shapely Point objects\n",
        "- Insert Point objects into the column `geometry` based on the coordinate columns\n",
        "\n",
        "You want to create a `shapely.geometry.Point` *for each row*, based on the columns `lon` and `lat`.\n",
        "There are different approaches to this task, we encourage you to try to use the [`apply()` method](https://pandas.pydata.org/pandas-docs/stable/reference/api/pandas.DataFrame.apply.html) of the data frame, together with a *lambda function* (see the [**hints  for exercise 1**](https://autogis-site.readthedocs.io/en/latest/lessons/lesson-1/exercise-1.html), and the [**hints for this exercise**](https://autogis-site.readthedocs.io/en/latest/lessons/lesson-2/exercise-2.html))\n"
      ]
    },
    {
      "cell_type": "code",
      "source": [
        "data"
      ],
      "metadata": {
        "id": "7fHPYi_7Mm7M",
        "outputId": "b91ae11f-2a8a-4772-b93a-b939a704878f",
        "colab": {
          "base_uri": "https://localhost:8080/",
          "height": 423
        }
      },
      "execution_count": 5,
      "outputs": [
        {
          "output_type": "execute_result",
          "data": {
            "text/plain": [
              "             lat        lon         timestamp    userid\n",
              "0     -24.980792  31.484633  2015-07-07 03:02  66487960\n",
              "1     -25.499225  31.508906  2015-07-07 03:18  65281761\n",
              "2     -24.342578  30.930866  2015-03-07 03:38  90916112\n",
              "3     -24.854614  31.519718  2015-10-07 05:04  37959089\n",
              "4     -24.921069  31.520836  2015-10-07 05:19  27793716\n",
              "...          ...        ...               ...       ...\n",
              "81374 -24.799541  31.354469  2015-09-05 02:23  90744213\n",
              "81375 -25.467992  30.956033  2015-02-05 02:40  71109799\n",
              "81376 -25.332223  30.997409  2015-08-05 02:40  54796261\n",
              "81377 -25.508851  31.005536  2015-08-05 02:43  78762204\n",
              "81378 -25.498840  31.007430  2015-04-05 02:44  32190273\n",
              "\n",
              "[81379 rows x 4 columns]"
            ],
            "text/html": [
              "\n",
              "  <div id=\"df-907bc791-b480-4515-8632-5196e2cc0d98\">\n",
              "    <div class=\"colab-df-container\">\n",
              "      <div>\n",
              "<style scoped>\n",
              "    .dataframe tbody tr th:only-of-type {\n",
              "        vertical-align: middle;\n",
              "    }\n",
              "\n",
              "    .dataframe tbody tr th {\n",
              "        vertical-align: top;\n",
              "    }\n",
              "\n",
              "    .dataframe thead th {\n",
              "        text-align: right;\n",
              "    }\n",
              "</style>\n",
              "<table border=\"1\" class=\"dataframe\">\n",
              "  <thead>\n",
              "    <tr style=\"text-align: right;\">\n",
              "      <th></th>\n",
              "      <th>lat</th>\n",
              "      <th>lon</th>\n",
              "      <th>timestamp</th>\n",
              "      <th>userid</th>\n",
              "    </tr>\n",
              "  </thead>\n",
              "  <tbody>\n",
              "    <tr>\n",
              "      <th>0</th>\n",
              "      <td>-24.980792</td>\n",
              "      <td>31.484633</td>\n",
              "      <td>2015-07-07 03:02</td>\n",
              "      <td>66487960</td>\n",
              "    </tr>\n",
              "    <tr>\n",
              "      <th>1</th>\n",
              "      <td>-25.499225</td>\n",
              "      <td>31.508906</td>\n",
              "      <td>2015-07-07 03:18</td>\n",
              "      <td>65281761</td>\n",
              "    </tr>\n",
              "    <tr>\n",
              "      <th>2</th>\n",
              "      <td>-24.342578</td>\n",
              "      <td>30.930866</td>\n",
              "      <td>2015-03-07 03:38</td>\n",
              "      <td>90916112</td>\n",
              "    </tr>\n",
              "    <tr>\n",
              "      <th>3</th>\n",
              "      <td>-24.854614</td>\n",
              "      <td>31.519718</td>\n",
              "      <td>2015-10-07 05:04</td>\n",
              "      <td>37959089</td>\n",
              "    </tr>\n",
              "    <tr>\n",
              "      <th>4</th>\n",
              "      <td>-24.921069</td>\n",
              "      <td>31.520836</td>\n",
              "      <td>2015-10-07 05:19</td>\n",
              "      <td>27793716</td>\n",
              "    </tr>\n",
              "    <tr>\n",
              "      <th>...</th>\n",
              "      <td>...</td>\n",
              "      <td>...</td>\n",
              "      <td>...</td>\n",
              "      <td>...</td>\n",
              "    </tr>\n",
              "    <tr>\n",
              "      <th>81374</th>\n",
              "      <td>-24.799541</td>\n",
              "      <td>31.354469</td>\n",
              "      <td>2015-09-05 02:23</td>\n",
              "      <td>90744213</td>\n",
              "    </tr>\n",
              "    <tr>\n",
              "      <th>81375</th>\n",
              "      <td>-25.467992</td>\n",
              "      <td>30.956033</td>\n",
              "      <td>2015-02-05 02:40</td>\n",
              "      <td>71109799</td>\n",
              "    </tr>\n",
              "    <tr>\n",
              "      <th>81376</th>\n",
              "      <td>-25.332223</td>\n",
              "      <td>30.997409</td>\n",
              "      <td>2015-08-05 02:40</td>\n",
              "      <td>54796261</td>\n",
              "    </tr>\n",
              "    <tr>\n",
              "      <th>81377</th>\n",
              "      <td>-25.508851</td>\n",
              "      <td>31.005536</td>\n",
              "      <td>2015-08-05 02:43</td>\n",
              "      <td>78762204</td>\n",
              "    </tr>\n",
              "    <tr>\n",
              "      <th>81378</th>\n",
              "      <td>-25.498840</td>\n",
              "      <td>31.007430</td>\n",
              "      <td>2015-04-05 02:44</td>\n",
              "      <td>32190273</td>\n",
              "    </tr>\n",
              "  </tbody>\n",
              "</table>\n",
              "<p>81379 rows × 4 columns</p>\n",
              "</div>\n",
              "      <button class=\"colab-df-convert\" onclick=\"convertToInteractive('df-907bc791-b480-4515-8632-5196e2cc0d98')\"\n",
              "              title=\"Convert this dataframe to an interactive table.\"\n",
              "              style=\"display:none;\">\n",
              "        \n",
              "  <svg xmlns=\"http://www.w3.org/2000/svg\" height=\"24px\"viewBox=\"0 0 24 24\"\n",
              "       width=\"24px\">\n",
              "    <path d=\"M0 0h24v24H0V0z\" fill=\"none\"/>\n",
              "    <path d=\"M18.56 5.44l.94 2.06.94-2.06 2.06-.94-2.06-.94-.94-2.06-.94 2.06-2.06.94zm-11 1L8.5 8.5l.94-2.06 2.06-.94-2.06-.94L8.5 2.5l-.94 2.06-2.06.94zm10 10l.94 2.06.94-2.06 2.06-.94-2.06-.94-.94-2.06-.94 2.06-2.06.94z\"/><path d=\"M17.41 7.96l-1.37-1.37c-.4-.4-.92-.59-1.43-.59-.52 0-1.04.2-1.43.59L10.3 9.45l-7.72 7.72c-.78.78-.78 2.05 0 2.83L4 21.41c.39.39.9.59 1.41.59.51 0 1.02-.2 1.41-.59l7.78-7.78 2.81-2.81c.8-.78.8-2.07 0-2.86zM5.41 20L4 18.59l7.72-7.72 1.47 1.35L5.41 20z\"/>\n",
              "  </svg>\n",
              "      </button>\n",
              "      \n",
              "  <style>\n",
              "    .colab-df-container {\n",
              "      display:flex;\n",
              "      flex-wrap:wrap;\n",
              "      gap: 12px;\n",
              "    }\n",
              "\n",
              "    .colab-df-convert {\n",
              "      background-color: #E8F0FE;\n",
              "      border: none;\n",
              "      border-radius: 50%;\n",
              "      cursor: pointer;\n",
              "      display: none;\n",
              "      fill: #1967D2;\n",
              "      height: 32px;\n",
              "      padding: 0 0 0 0;\n",
              "      width: 32px;\n",
              "    }\n",
              "\n",
              "    .colab-df-convert:hover {\n",
              "      background-color: #E2EBFA;\n",
              "      box-shadow: 0px 1px 2px rgba(60, 64, 67, 0.3), 0px 1px 3px 1px rgba(60, 64, 67, 0.15);\n",
              "      fill: #174EA6;\n",
              "    }\n",
              "\n",
              "    [theme=dark] .colab-df-convert {\n",
              "      background-color: #3B4455;\n",
              "      fill: #D2E3FC;\n",
              "    }\n",
              "\n",
              "    [theme=dark] .colab-df-convert:hover {\n",
              "      background-color: #434B5C;\n",
              "      box-shadow: 0px 1px 3px 1px rgba(0, 0, 0, 0.15);\n",
              "      filter: drop-shadow(0px 1px 2px rgba(0, 0, 0, 0.3));\n",
              "      fill: #FFFFFF;\n",
              "    }\n",
              "  </style>\n",
              "\n",
              "      <script>\n",
              "        const buttonEl =\n",
              "          document.querySelector('#df-907bc791-b480-4515-8632-5196e2cc0d98 button.colab-df-convert');\n",
              "        buttonEl.style.display =\n",
              "          google.colab.kernel.accessAllowed ? 'block' : 'none';\n",
              "\n",
              "        async function convertToInteractive(key) {\n",
              "          const element = document.querySelector('#df-907bc791-b480-4515-8632-5196e2cc0d98');\n",
              "          const dataTable =\n",
              "            await google.colab.kernel.invokeFunction('convertToInteractive',\n",
              "                                                     [key], {});\n",
              "          if (!dataTable) return;\n",
              "\n",
              "          const docLinkHtml = 'Like what you see? Visit the ' +\n",
              "            '<a target=\"_blank\" href=https://colab.research.google.com/notebooks/data_table.ipynb>data table notebook</a>'\n",
              "            + ' to learn more about interactive tables.';\n",
              "          element.innerHTML = '';\n",
              "          dataTable['output_type'] = 'display_data';\n",
              "          await google.colab.output.renderOutput(dataTable, element);\n",
              "          const docLink = document.createElement('div');\n",
              "          docLink.innerHTML = docLinkHtml;\n",
              "          element.appendChild(docLink);\n",
              "        }\n",
              "      </script>\n",
              "    </div>\n",
              "  </div>\n",
              "  "
            ]
          },
          "metadata": {},
          "execution_count": 5
        }
      ]
    },
    {
      "cell_type": "code",
      "execution_count": 6,
      "metadata": {
        "id": "QoxIwQFOKvhV"
      },
      "outputs": [],
      "source": [
        "# ADD YOUR OWN CODE HERE\n",
        "import shapely\n",
        "\n",
        "def create_point(data):\n",
        "    for i, row in data.iterrows():\n",
        "        point = shapely.geometry.Point(data[\"lat\"], data[\"lon\"])\n"
      ]
    },
    {
      "cell_type": "code",
      "execution_count": null,
      "metadata": {
        "deletable": false,
        "editable": false,
        "id": "_q1I9Cc0KvhV"
      },
      "outputs": [],
      "source": [
        "# NON-EDITABLE CODE CELL FOR TESTING YOUR SOLUTION\n",
        "\n",
        "# Check the result\n",
        "print(data['geometry'].head())"
      ]
    },
    {
      "cell_type": "markdown",
      "metadata": {
        "deletable": false,
        "editable": false,
        "jp-MarkdownHeadingCollapsed": true,
        "tags": [],
        "id": "r5JNntZ1KvhV"
      },
      "source": [
        "### c) Convert the `pandas.DataFrame` into a `geopandas.GeoDataFrame`\n",
        "\n",
        "- Convert `data` into a `geopandas.GeoDataFrame` using its [constructor](https://geopandas.org/reference/geopandas.GeoDataFrame.html). (*See [the hints for this exercise](https://autogis-site.readthedocs.io/en/latest/lessons/lesson-2/exercise-2.html) for additional instructions*)\n",
        "- Make sure that the resulting `GeoDataFrame` has a coordinate reference system defined"
      ]
    },
    {
      "cell_type": "code",
      "execution_count": null,
      "metadata": {
        "jupyter": {
          "outputs_hidden": false
        },
        "id": "poUFdYEVKvhV"
      },
      "outputs": [],
      "source": [
        "# ADD YOUR OWN CODE HERE\n"
      ]
    },
    {
      "cell_type": "code",
      "execution_count": null,
      "metadata": {
        "deletable": false,
        "editable": false,
        "jupyter": {
          "outputs_hidden": false
        },
        "id": "iApuXx8oKvhV"
      },
      "outputs": [],
      "source": [
        "# NON-EDITABLE CODE CELL FOR TESTING YOUR SOLUTION\n",
        "data"
      ]
    },
    {
      "cell_type": "markdown",
      "metadata": {
        "deletable": false,
        "editable": false,
        "jp-MarkdownHeadingCollapsed": true,
        "tags": [],
        "id": "Nq27aj5YKvhV"
      },
      "source": [
        "### d) Save the data in Shapefile format as `kruger_points.shp` inside the `data` directory"
      ]
    },
    {
      "cell_type": "code",
      "execution_count": null,
      "metadata": {
        "id": "wr8NFxAaKvhV"
      },
      "outputs": [],
      "source": [
        "# ADD YOUR OWN CODE HERE\n"
      ]
    },
    {
      "cell_type": "code",
      "execution_count": null,
      "metadata": {
        "deletable": false,
        "editable": false,
        "id": "vlEWIMXEKvhW"
      },
      "outputs": [],
      "source": [
        "# NON-EDITABLE CODE CELL FOR TESTING YOUR SOLUTION\n",
        "\n",
        "# Check that the output file exists\n",
        "import pathlib\n",
        "assert pathlib.Path(DATA_DIRECTORY / \"kruger_points.shp\").exists()"
      ]
    },
    {
      "cell_type": "markdown",
      "metadata": {
        "deletable": false,
        "editable": false,
        "jp-MarkdownHeadingCollapsed": true,
        "tags": [],
        "id": "HT7qlFOVKvhW"
      },
      "source": [
        "### e) Create a simple map of the points"
      ]
    },
    {
      "cell_type": "code",
      "execution_count": null,
      "metadata": {
        "jupyter": {
          "outputs_hidden": false
        },
        "id": "Flve9NTQKvhW"
      },
      "outputs": [],
      "source": [
        "# ADD YOUR OWN CODE HERE\n"
      ]
    },
    {
      "cell_type": "markdown",
      "metadata": {
        "deletable": false,
        "editable": false,
        "id": "P9t_hIH8KvhW"
      },
      "source": [
        "\n",
        "### *Optional:* Download the output shapefile and create a map using a Desktop GIS\n",
        "\n",
        "For example, overlay the points with a basemap. Post the resulting map in the `#week2` slack channel."
      ]
    },
    {
      "cell_type": "markdown",
      "metadata": {
        "deletable": false,
        "editable": false,
        "id": "6DIUfgZeKvhW"
      },
      "source": [
        "\n",
        "---\n",
        "\n",
        "### Great job!\n",
        "\n",
        "You can move on to [Exercise-2-problem-3.ipynb](Exercise-2-problem-3.ipynb)."
      ]
    }
  ],
  "metadata": {
    "anaconda-cloud": {},
    "kernelspec": {
      "display_name": "Python 3 (ipykernel)",
      "language": "python",
      "name": "python3"
    },
    "language_info": {
      "codemirror_mode": {
        "name": "ipython",
        "version": 3
      },
      "file_extension": ".py",
      "mimetype": "text/x-python",
      "name": "python",
      "nbconvert_exporter": "python",
      "pygments_lexer": "ipython3",
      "version": "3.10.8"
    },
    "colab": {
      "provenance": []
    }
  },
  "nbformat": 4,
  "nbformat_minor": 0
}